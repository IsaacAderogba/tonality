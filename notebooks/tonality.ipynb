{
 "cells": [
  {
   "cell_type": "markdown",
   "id": "69cfab62",
   "metadata": {},
   "source": [
    "# Tonality\n",
    "This is the notebook used to create the formality classifier for tonality. It uses the [Pavlick Formality Scores](https://www.cs.rochester.edu/~tetreaul/pavlick-tetreault-formality-tacl2015.pdf) dataset, downloaded from [Huggingface](https://huggingface.co/datasets/osyvokon/pavlick-formality-scores)."
   ]
  },
  {
   "cell_type": "code",
   "execution_count": 22,
   "id": "d3b0fb68",
   "metadata": {},
   "outputs": [],
   "source": [
    "from huggingface_hub import notebook_login\n",
    "from datasets import load_dataset\n",
    "from sklearn.metrics import accuracy_score, f1_score, ConfusionMatrixDisplay, confusion_matrix\n",
    "from transformers import AutoTokenizer, AutoModelForSequenceClassification\n",
    "from transformers import Trainer, TrainingArguments\n",
    "from torch.nn.functional import cross_entropy\n",
    "\n",
    "import os\n",
    "import torch\n",
    "import torch.nn.functional as F\n",
    "import matplotlib.pyplot as plt\n",
    "import numpy as np\n",
    "import pandas as pd"
   ]
  },
  {
   "cell_type": "code",
   "execution_count": 23,
   "id": "415ef143",
   "metadata": {},
   "outputs": [],
   "source": [
    "os.environ[\"TOKENIZERS_PARALLELISM\"] = \"false\""
   ]
  },
  {
   "cell_type": "markdown",
   "id": "1cfc415c",
   "metadata": {},
   "source": [
    "## Creating labels"
   ]
  },
  {
   "cell_type": "code",
   "execution_count": 24,
   "id": "3565948c",
   "metadata": {
    "scrolled": true
   },
   "outputs": [
    {
     "name": "stderr",
     "output_type": "stream",
     "text": [
      "Using custom data configuration default-502b3e36548ffb76\n",
      "Reusing dataset csv (/Users/isaacaderogba/.cache/huggingface/datasets/csv/default-502b3e36548ffb76/0.0.0/652c3096f041ee27b04d2232d41f10547a8fecda3e284a79a0ec4053c916ef7a)\n"
     ]
    },
    {
     "data": {
      "application/vnd.jupyter.widget-view+json": {
       "model_id": "2de5b35fd4e14913abd197551c5563e8",
       "version_major": 2,
       "version_minor": 0
      },
      "text/plain": [
       "  0%|          | 0/2 [00:00<?, ?it/s]"
      ]
     },
     "metadata": {},
     "output_type": "display_data"
    }
   ],
   "source": [
    "formality = load_dataset(\"csv\", \n",
    "                         data_files={\"train\": \"../data/train.csv\", \"test\": \"../data/test.csv\"})"
   ]
  },
  {
   "cell_type": "code",
   "execution_count": 25,
   "id": "c85d6029",
   "metadata": {},
   "outputs": [],
   "source": [
    "formality.set_format(type=\"pandas\")\n",
    "\n",
    "train = formality[\"train\"][:]\n",
    "test = formality[\"test\"][:]"
   ]
  },
  {
   "cell_type": "code",
   "execution_count": 26,
   "id": "63e3e2af",
   "metadata": {},
   "outputs": [],
   "source": [
    "def create_label(row):\n",
    "    if row[\"avg_score\"] >= 0:\n",
    "        return 1\n",
    "    else:\n",
    "        return 0"
   ]
  },
  {
   "cell_type": "code",
   "execution_count": 27,
   "id": "d44bec75",
   "metadata": {},
   "outputs": [],
   "source": [
    "train[\"label\"] = train.apply(create_label, axis=1)\n",
    "test[\"label\"] = test.apply(create_label, axis=1)"
   ]
  },
  {
   "cell_type": "markdown",
   "id": "1e295fd6",
   "metadata": {},
   "source": [
    "## Visualizing length"
   ]
  },
  {
   "cell_type": "code",
   "execution_count": 28,
   "id": "2c17dd14",
   "metadata": {},
   "outputs": [],
   "source": [
    "def plot_words_per_sentence(df, title):\n",
    "    df[\"word_count\"] = df[\"sentence\"].str.split().apply(len)\n",
    "    df.boxplot(\"word_count\", by=\"label\", grid=False, showfliers=False, color=\"black\")\n",
    "    plt.suptitle(\"\")\n",
    "    plt.xlabel(\"Label\")\n",
    "    plt.ylabel(\"Word Count\")\n",
    "    plt.title(title)\n",
    "    plt.show()"
   ]
  },
  {
   "cell_type": "code",
   "execution_count": 29,
   "id": "af0397af",
   "metadata": {
    "scrolled": true
   },
   "outputs": [
    {
     "data": {
      "image/png": "[encoded data removed]",
      "text/plain": [
       "<Figure size 432x288 with 1 Axes>"
      ]
     },
     "metadata": {
      "needs_background": "light"
     },
     "output_type": "display_data"
    }
   ],
   "source": [
    "plot_words_per_sentence(train, \"Train dataset\")"
   ]
  },
  {
   "cell_type": "code",
   "execution_count": 30,
   "id": "f798aca4",
   "metadata": {},
   "outputs": [
    {
     "data": {
      "image/png": "[encoded data removed]",
      "text/plain": [
       "<Figure size 432x288 with 1 Axes>"
      ]
     },
     "metadata": {
      "needs_background": "light"
     },
     "output_type": "display_data"
    }
   ],
   "source": [
    "plot_words_per_sentence(test, \"Test dataset\")"
   ]
  },
  {
   "cell_type": "code",
   "execution_count": 31,
   "id": "c8fda2f7",
   "metadata": {},
   "outputs": [
    {
     "name": "stderr",
     "output_type": "stream",
     "text": [
      "Loading cached processed dataset at /Users/isaacaderogba/.cache/huggingface/datasets/csv/default-502b3e36548ffb76/0.0.0/652c3096f041ee27b04d2232d41f10547a8fecda3e284a79a0ec4053c916ef7a/cache-a226518a94748cc8.arrow\n",
      "Loading cached processed dataset at /Users/isaacaderogba/.cache/huggingface/datasets/csv/default-502b3e36548ffb76/0.0.0/652c3096f041ee27b04d2232d41f10547a8fecda3e284a79a0ec4053c916ef7a/cache-be54dc399a65b62d.arrow\n"
     ]
    }
   ],
   "source": [
    "formality.reset_format()\n",
    "\n",
    "def create_label(batch):\n",
    "    if batch[\"avg_score\"] >= 0:\n",
    "        return {\"label\": 1}\n",
    "    else:\n",
    "        return {\"label\": 0}\n",
    "    \n",
    "formality = formality.map(create_label)"
   ]
  },
  {
   "cell_type": "markdown",
   "id": "34abdd04",
   "metadata": {},
   "source": [
    "## Tokenization"
   ]
  },
  {
   "cell_type": "code",
   "execution_count": 32,
   "id": "34cc0480",
   "metadata": {},
   "outputs": [],
   "source": [
    "from transformers import AutoTokenizer\n",
    "\n",
    "model_ckpt = \"distilbert-base-cased\"\n",
    "tokenizer = AutoTokenizer.from_pretrained(model_ckpt)"
   ]
  },
  {
   "cell_type": "code",
   "execution_count": 33,
   "id": "e5705ffd",
   "metadata": {},
   "outputs": [],
   "source": [
    "def tokenize(batch):\n",
    "    return tokenizer(batch[\"sentence\"], padding=True, truncation=True)"
   ]
  },
  {
   "cell_type": "code",
   "execution_count": 34,
   "id": "614a4bef",
   "metadata": {},
   "outputs": [
    {
     "name": "stderr",
     "output_type": "stream",
     "text": [
      "Loading cached processed dataset at /Users/isaacaderogba/.cache/huggingface/datasets/csv/default-502b3e36548ffb76/0.0.0/652c3096f041ee27b04d2232d41f10547a8fecda3e284a79a0ec4053c916ef7a/cache-ba7567f11f7aebd4.arrow\n"
     ]
    },
    {
     "data": {
      "application/vnd.jupyter.widget-view+json": {
       "model_id": "18b5b52aba16402599d35a0721f40066",
       "version_major": 2,
       "version_minor": 0
      },
      "text/plain": [
       "  0%|          | 0/1 [00:00<?, ?ba/s]"
      ]
     },
     "metadata": {},
     "output_type": "display_data"
    }
   ],
   "source": [
    "formality_encoded = formality.map(tokenize, batched=True, batch_size=None)"
   ]
  },
  {
   "cell_type": "markdown",
   "id": "b88223a2",
   "metadata": {},
   "source": [
    "## Training"
   ]
  },
  {
   "cell_type": "code",
   "execution_count": 42,
   "id": "d68bf170",
   "metadata": {},
   "outputs": [
    {
     "data": {
      "application/vnd.jupyter.widget-view+json": {
       "model_id": "d5167e40bd724d109b3925ff6686ce70",
       "version_major": 2,
       "version_minor": 0
      },
      "text/plain": [
       "VBox(children=(HTML(value='<center> <img\\nsrc=https://huggingface.co/front/assets/huggingface_logo-noborder.sv…"
      ]
     },
     "metadata": {},
     "output_type": "display_data"
    }
   ],
   "source": [
    "notebook_login()"
   ]
  },
  {
   "cell_type": "code",
   "execution_count": 43,
   "id": "ec39ad23",
   "metadata": {},
   "outputs": [
    {
     "data": {
      "text/plain": [
       "device(type='mps')"
      ]
     },
     "execution_count": 43,
     "metadata": {},
     "output_type": "execute_result"
    }
   ],
   "source": [
    "device = torch.device(\"mps\" if  torch.backends.mps.is_available() else \"cpu\")\n",
    "device"
   ]
  },
  {
   "cell_type": "code",
   "execution_count": 44,
   "id": "dd38669a",
   "metadata": {},
   "outputs": [
    {
     "data": {
      "text/plain": [
       "DatasetDict({\n",
       "    train: Dataset({\n",
       "        features: ['domain', 'avg_score', 'sentence', 'label', 'input_ids', 'attention_mask'],\n",
       "        num_rows: 9274\n",
       "    })\n",
       "    test: Dataset({\n",
       "        features: ['domain', 'avg_score', 'sentence', 'label', 'input_ids', 'attention_mask'],\n",
       "        num_rows: 2000\n",
       "    })\n",
       "})"
      ]
     },
     "execution_count": 44,
     "metadata": {},
     "output_type": "execute_result"
    }
   ],
   "source": [
    "formality_encoded"
   ]
  },
  {
   "cell_type": "code",
   "execution_count": 45,
   "id": "db315aa9",
   "metadata": {},
   "outputs": [],
   "source": [
    "num_labels = 2\n",
    "model = AutoModelForSequenceClassification.from_pretrained(model_ckpt, num_labels=num_labels).to(device)"
   ]
  },
  {
   "cell_type": "code",
   "execution_count": 46,
   "id": "4c5c5f6f",
   "metadata": {},
   "outputs": [],
   "source": [
    "def compute_metrics(pred):\n",
    "    labels = pred.label_ids\n",
    "    preds = pred.predictions.argmax(-1)\n",
    "    f1 = f1_score(labels, preds, average=\"weighted\")\n",
    "    acc = accuracy_score(labels, preds)\n",
    "    return {\"accuracy\": acc, \"f1\": f1}"
   ]
  },
  {
   "cell_type": "code",
   "execution_count": 53,
   "id": "a9144156",
   "metadata": {},
   "outputs": [],
   "source": [
    "batch_size = 128\n",
    "logging_steps = len(formality_encoded[\"train\"]) // batch_size\n",
    "model_name = \"tonality\"\n",
    "\n",
    "training_args = TrainingArguments(\n",
    "    output_dir=model_name,\n",
    "    num_train_epochs=3,\n",
    "    learning_rate=2e-5,\n",
    "    per_device_train_batch_size=batch_size,\n",
    "    per_device_eval_batch_size=batch_size,\n",
    "    weight_decay=0.01,\n",
    "    evaluation_strategy=\"epoch\",\n",
    "    disable_tqdm=False,\n",
    "    logging_steps=logging_steps,\n",
    "    push_to_hub=True,\n",
    "    log_level=\"error\"\n",
    ")"
   ]
  },
  {
   "cell_type": "code",
   "execution_count": 54,
   "id": "046a0f9f",
   "metadata": {},
   "outputs": [
    {
     "data": {
      "text/plain": [
       "DistilBertForSequenceClassification(\n",
       "  (distilbert): DistilBertModel(\n",
       "    (embeddings): Embeddings(\n",
       "      (word_embeddings): Embedding(28996, 768, padding_idx=0)\n",
       "      (position_embeddings): Embedding(512, 768)\n",
       "      (LayerNorm): LayerNorm((768,), eps=1e-12, elementwise_affine=True)\n",
       "      (dropout): Dropout(p=0.1, inplace=False)\n",
       "    )\n",
       "    (transformer): Transformer(\n",
       "      (layer): ModuleList(\n",
       "        (0): TransformerBlock(\n",
       "          (attention): MultiHeadSelfAttention(\n",
       "            (dropout): Dropout(p=0.1, inplace=False)\n",
       "            (q_lin): Linear(in_features=768, out_features=768, bias=True)\n",
       "            (k_lin): Linear(in_features=768, out_features=768, bias=True)\n",
       "            (v_lin): Linear(in_features=768, out_features=768, bias=True)\n",
       "            (out_lin): Linear(in_features=768, out_features=768, bias=True)\n",
       "          )\n",
       "          (sa_layer_norm): LayerNorm((768,), eps=1e-12, elementwise_affine=True)\n",
       "          (ffn): FFN(\n",
       "            (dropout): Dropout(p=0.1, inplace=False)\n",
       "            (lin1): Linear(in_features=768, out_features=3072, bias=True)\n",
       "            (lin2): Linear(in_features=3072, out_features=768, bias=True)\n",
       "            (activation): GELUActivation()\n",
       "          )\n",
       "          (output_layer_norm): LayerNorm((768,), eps=1e-12, elementwise_affine=True)\n",
       "        )\n",
       "        (1): TransformerBlock(\n",
       "          (attention): MultiHeadSelfAttention(\n",
       "            (dropout): Dropout(p=0.1, inplace=False)\n",
       "            (q_lin): Linear(in_features=768, out_features=768, bias=True)\n",
       "            (k_lin): Linear(in_features=768, out_features=768, bias=True)\n",
       "            (v_lin): Linear(in_features=768, out_features=768, bias=True)\n",
       "            (out_lin): Linear(in_features=768, out_features=768, bias=True)\n",
       "          )\n",
       "          (sa_layer_norm): LayerNorm((768,), eps=1e-12, elementwise_affine=True)\n",
       "          (ffn): FFN(\n",
       "            (dropout): Dropout(p=0.1, inplace=False)\n",
       "            (lin1): Linear(in_features=768, out_features=3072, bias=True)\n",
       "            (lin2): Linear(in_features=3072, out_features=768, bias=True)\n",
       "            (activation): GELUActivation()\n",
       "          )\n",
       "          (output_layer_norm): LayerNorm((768,), eps=1e-12, elementwise_affine=True)\n",
       "        )\n",
       "        (2): TransformerBlock(\n",
       "          (attention): MultiHeadSelfAttention(\n",
       "            (dropout): Dropout(p=0.1, inplace=False)\n",
       "            (q_lin): Linear(in_features=768, out_features=768, bias=True)\n",
       "            (k_lin): Linear(in_features=768, out_features=768, bias=True)\n",
       "            (v_lin): Linear(in_features=768, out_features=768, bias=True)\n",
       "            (out_lin): Linear(in_features=768, out_features=768, bias=True)\n",
       "          )\n",
       "          (sa_layer_norm): LayerNorm((768,), eps=1e-12, elementwise_affine=True)\n",
       "          (ffn): FFN(\n",
       "            (dropout): Dropout(p=0.1, inplace=False)\n",
       "            (lin1): Linear(in_features=768, out_features=3072, bias=True)\n",
       "            (lin2): Linear(in_features=3072, out_features=768, bias=True)\n",
       "            (activation): GELUActivation()\n",
       "          )\n",
       "          (output_layer_norm): LayerNorm((768,), eps=1e-12, elementwise_affine=True)\n",
       "        )\n",
       "        (3): TransformerBlock(\n",
       "          (attention): MultiHeadSelfAttention(\n",
       "            (dropout): Dropout(p=0.1, inplace=False)\n",
       "            (q_lin): Linear(in_features=768, out_features=768, bias=True)\n",
       "            (k_lin): Linear(in_features=768, out_features=768, bias=True)\n",
       "            (v_lin): Linear(in_features=768, out_features=768, bias=True)\n",
       "            (out_lin): Linear(in_features=768, out_features=768, bias=True)\n",
       "          )\n",
       "          (sa_layer_norm): LayerNorm((768,), eps=1e-12, elementwise_affine=True)\n",
       "          (ffn): FFN(\n",
       "            (dropout): Dropout(p=0.1, inplace=False)\n",
       "            (lin1): Linear(in_features=768, out_features=3072, bias=True)\n",
       "            (lin2): Linear(in_features=3072, out_features=768, bias=True)\n",
       "            (activation): GELUActivation()\n",
       "          )\n",
       "          (output_layer_norm): LayerNorm((768,), eps=1e-12, elementwise_affine=True)\n",
       "        )\n",
       "        (4): TransformerBlock(\n",
       "          (attention): MultiHeadSelfAttention(\n",
       "            (dropout): Dropout(p=0.1, inplace=False)\n",
       "            (q_lin): Linear(in_features=768, out_features=768, bias=True)\n",
       "            (k_lin): Linear(in_features=768, out_features=768, bias=True)\n",
       "            (v_lin): Linear(in_features=768, out_features=768, bias=True)\n",
       "            (out_lin): Linear(in_features=768, out_features=768, bias=True)\n",
       "          )\n",
       "          (sa_layer_norm): LayerNorm((768,), eps=1e-12, elementwise_affine=True)\n",
       "          (ffn): FFN(\n",
       "            (dropout): Dropout(p=0.1, inplace=False)\n",
       "            (lin1): Linear(in_features=768, out_features=3072, bias=True)\n",
       "            (lin2): Linear(in_features=3072, out_features=768, bias=True)\n",
       "            (activation): GELUActivation()\n",
       "          )\n",
       "          (output_layer_norm): LayerNorm((768,), eps=1e-12, elementwise_affine=True)\n",
       "        )\n",
       "        (5): TransformerBlock(\n",
       "          (attention): MultiHeadSelfAttention(\n",
       "            (dropout): Dropout(p=0.1, inplace=False)\n",
       "            (q_lin): Linear(in_features=768, out_features=768, bias=True)\n",
       "            (k_lin): Linear(in_features=768, out_features=768, bias=True)\n",
       "            (v_lin): Linear(in_features=768, out_features=768, bias=True)\n",
       "            (out_lin): Linear(in_features=768, out_features=768, bias=True)\n",
       "          )\n",
       "          (sa_layer_norm): LayerNorm((768,), eps=1e-12, elementwise_affine=True)\n",
       "          (ffn): FFN(\n",
       "            (dropout): Dropout(p=0.1, inplace=False)\n",
       "            (lin1): Linear(in_features=768, out_features=3072, bias=True)\n",
       "            (lin2): Linear(in_features=3072, out_features=768, bias=True)\n",
       "            (activation): GELUActivation()\n",
       "          )\n",
       "          (output_layer_norm): LayerNorm((768,), eps=1e-12, elementwise_affine=True)\n",
       "        )\n",
       "      )\n",
       "    )\n",
       "  )\n",
       "  (pre_classifier): Linear(in_features=768, out_features=768, bias=True)\n",
       "  (classifier): Linear(in_features=768, out_features=2, bias=True)\n",
       "  (dropout): Dropout(p=0.2, inplace=False)\n",
       ")"
      ]
     },
     "execution_count": 54,
     "metadata": {},
     "output_type": "execute_result"
    }
   ],
   "source": [
    "model.to(device)"
   ]
  },
  {
   "cell_type": "code",
   "execution_count": 55,
   "id": "2a30e606",
   "metadata": {},
   "outputs": [
    {
     "name": "stderr",
     "output_type": "stream",
     "text": [
      "/Users/isaacaderogba/Documents/tonality/notebooks/tonality is already a clone of https://huggingface.co/isaacaderogba/tonality. Make sure you pull the latest changes with `repo.git_pull()`.\n"
     ]
    }
   ],
   "source": [
    "trainer = Trainer(\n",
    "    model=model, \n",
    "    args=training_args,\n",
    "    compute_metrics=compute_metrics,\n",
    "    train_dataset=formality_encoded[\"train\"],\n",
    "    eval_dataset=formality_encoded[\"test\"]\n",
    ")"
   ]
  },
  {
   "cell_type": "code",
   "execution_count": 52,
   "id": "697c609f",
   "metadata": {},
   "outputs": [
    {
     "name": "stderr",
     "output_type": "stream",
     "text": [
      "/Users/isaacaderogba/.local/share/virtualenvs/tonality-iwQzFyzq/lib/python3.9/site-packages/transformers/optimization.py:306: FutureWarning: This implementation of AdamW is deprecated and will be removed in a future version. Use the PyTorch implementation torch.optim.AdamW instead, or set `no_deprecation_warning=True` to disable this warning\n",
      "  warnings.warn(\n"
     ]
    },
    {
     "data": {
      "text/html": [
       "\n",
       "    <div>\n",
       "      \n",
       "      <progress value='365' max='365' style='width:300px; height:20px; vertical-align: middle;'></progress>\n",
       "      [365/365 1:50:09, Epoch 5/5]\n",
       "    </div>\n",
       "    <table border=\"1\" class=\"dataframe\">\n",
       "  <thead>\n",
       " <tr style=\"text-align: left;\">\n",
       "      <th>Epoch</th>\n",
       "      <th>Training Loss</th>\n",
       "      <th>Validation Loss</th>\n",
       "      <th>Accuracy</th>\n",
       "      <th>F1</th>\n",
       "    </tr>\n",
       "  </thead>\n",
       "  <tbody>\n",
       "    <tr>\n",
       "      <td>1</td>\n",
       "      <td>0.431400</td>\n",
       "      <td>0.411788</td>\n",
       "      <td>0.813000</td>\n",
       "      <td>0.810668</td>\n",
       "    </tr>\n",
       "    <tr>\n",
       "      <td>2</td>\n",
       "      <td>0.358400</td>\n",
       "      <td>0.407090</td>\n",
       "      <td>0.822500</td>\n",
       "      <td>0.822137</td>\n",
       "    </tr>\n",
       "    <tr>\n",
       "      <td>3</td>\n",
       "      <td>0.314900</td>\n",
       "      <td>0.406111</td>\n",
       "      <td>0.819500</td>\n",
       "      <td>0.818697</td>\n",
       "    </tr>\n",
       "    <tr>\n",
       "      <td>4</td>\n",
       "      <td>0.279400</td>\n",
       "      <td>0.423232</td>\n",
       "      <td>0.824000</td>\n",
       "      <td>0.823134</td>\n",
       "    </tr>\n",
       "    <tr>\n",
       "      <td>5</td>\n",
       "      <td>0.253800</td>\n",
       "      <td>0.430559</td>\n",
       "      <td>0.823500</td>\n",
       "      <td>0.821812</td>\n",
       "    </tr>\n",
       "  </tbody>\n",
       "</table><p>"
      ],
      "text/plain": [
       "<IPython.core.display.HTML object>"
      ]
     },
     "metadata": {},
     "output_type": "display_data"
    },
    {
     "data": {
      "text/plain": [
       "TrainOutput(global_step=365, training_loss=0.32597968088437435, metrics={'train_runtime': 6626.4264, 'train_samples_per_second': 6.998, 'train_steps_per_second': 0.055, 'total_flos': 2039506361065200.0, 'train_loss': 0.32597968088437435, 'epoch': 5.0})"
      ]
     },
     "execution_count": 52,
     "metadata": {},
     "output_type": "execute_result"
    }
   ],
   "source": [
    "trainer.train()"
   ]
  },
  {
   "cell_type": "markdown",
   "id": "ecb96f9e",
   "metadata": {},
   "source": [
    "## Evaluate"
   ]
  },
  {
   "cell_type": "code",
   "execution_count": 56,
   "id": "6134c166",
   "metadata": {},
   "outputs": [
    {
     "data": {
      "text/html": [],
      "text/plain": [
       "<IPython.core.display.HTML object>"
      ]
     },
     "metadata": {},
     "output_type": "display_data"
    }
   ],
   "source": [
    "preds_output = trainer.predict(formality_encoded[\"test\"])"
   ]
  },
  {
   "cell_type": "code",
   "execution_count": 57,
   "id": "6693a7ad",
   "metadata": {},
   "outputs": [],
   "source": [
    "y_preds = np.argmax(preds_output.predictions, axis=1)\n",
    "y_true = np.array(formality_encoded[\"test\"][\"label\"])"
   ]
  },
  {
   "cell_type": "code",
   "execution_count": 58,
   "id": "22a30d72",
   "metadata": {
    "scrolled": true
   },
   "outputs": [
    {
     "data": {
      "image/png": "[encoded data removed]",
      "text/plain": [
       "<Figure size 288x288 with 1 Axes>"
      ]
     },
     "metadata": {
      "needs_background": "light"
     },
     "output_type": "display_data"
    }
   ],
   "source": [
    "def plot_confusion_matrix(y_preds, y_true):\n",
    "    cm = confusion_matrix(y_true, y_preds, normalize=\"true\")\n",
    "    fig, ax = plt.subplots(figsize=(4, 4))\n",
    "    disp = ConfusionMatrixDisplay(confusion_matrix=cm) \n",
    "    disp.plot(cmap=\"Blues\", values_format=\".2f\", ax=ax, colorbar=False) \n",
    "    plt.title(\"Normalized confusion matrix\")\n",
    "    plt.show()\n",
    "\n",
    "\n",
    "plot_confusion_matrix(y_preds, y_true)\n"
   ]
  },
  {
   "cell_type": "code",
   "execution_count": 59,
   "id": "b6566f51",
   "metadata": {},
   "outputs": [],
   "source": [
    "def forward_pass_with_label(batch):\n",
    "    inputs = {k:v.to(device) for k,v in batch.items() if k in tokenizer.model_input_names}\n",
    "\n",
    "    with torch.no_grad():\n",
    "        output = model(**inputs)\n",
    "        pred_label = torch.argmax(output.logits, axis=-1)\n",
    "        loss = cross_entropy(output.logits, batch[\"label\"].to(device), reduction=\"none\")\n",
    "        \n",
    "        return {\"loss\": loss.cpu().numpy(), \"predicted_label\": pred_label.cpu().numpy()}"
   ]
  },
  {
   "cell_type": "code",
   "execution_count": 61,
   "id": "3355b9aa",
   "metadata": {},
   "outputs": [
    {
     "data": {
      "text/plain": [
       "DistilBertForSequenceClassification(\n",
       "  (distilbert): DistilBertModel(\n",
       "    (embeddings): Embeddings(\n",
       "      (word_embeddings): Embedding(28996, 768, padding_idx=0)\n",
       "      (position_embeddings): Embedding(512, 768)\n",
       "      (LayerNorm): LayerNorm((768,), eps=1e-12, elementwise_affine=True)\n",
       "      (dropout): Dropout(p=0.1, inplace=False)\n",
       "    )\n",
       "    (transformer): Transformer(\n",
       "      (layer): ModuleList(\n",
       "        (0): TransformerBlock(\n",
       "          (attention): MultiHeadSelfAttention(\n",
       "            (dropout): Dropout(p=0.1, inplace=False)\n",
       "            (q_lin): Linear(in_features=768, out_features=768, bias=True)\n",
       "            (k_lin): Linear(in_features=768, out_features=768, bias=True)\n",
       "            (v_lin): Linear(in_features=768, out_features=768, bias=True)\n",
       "            (out_lin): Linear(in_features=768, out_features=768, bias=True)\n",
       "          )\n",
       "          (sa_layer_norm): LayerNorm((768,), eps=1e-12, elementwise_affine=True)\n",
       "          (ffn): FFN(\n",
       "            (dropout): Dropout(p=0.1, inplace=False)\n",
       "            (lin1): Linear(in_features=768, out_features=3072, bias=True)\n",
       "            (lin2): Linear(in_features=3072, out_features=768, bias=True)\n",
       "            (activation): GELUActivation()\n",
       "          )\n",
       "          (output_layer_norm): LayerNorm((768,), eps=1e-12, elementwise_affine=True)\n",
       "        )\n",
       "        (1): TransformerBlock(\n",
       "          (attention): MultiHeadSelfAttention(\n",
       "            (dropout): Dropout(p=0.1, inplace=False)\n",
       "            (q_lin): Linear(in_features=768, out_features=768, bias=True)\n",
       "            (k_lin): Linear(in_features=768, out_features=768, bias=True)\n",
       "            (v_lin): Linear(in_features=768, out_features=768, bias=True)\n",
       "            (out_lin): Linear(in_features=768, out_features=768, bias=True)\n",
       "          )\n",
       "          (sa_layer_norm): LayerNorm((768,), eps=1e-12, elementwise_affine=True)\n",
       "          (ffn): FFN(\n",
       "            (dropout): Dropout(p=0.1, inplace=False)\n",
       "            (lin1): Linear(in_features=768, out_features=3072, bias=True)\n",
       "            (lin2): Linear(in_features=3072, out_features=768, bias=True)\n",
       "            (activation): GELUActivation()\n",
       "          )\n",
       "          (output_layer_norm): LayerNorm((768,), eps=1e-12, elementwise_affine=True)\n",
       "        )\n",
       "        (2): TransformerBlock(\n",
       "          (attention): MultiHeadSelfAttention(\n",
       "            (dropout): Dropout(p=0.1, inplace=False)\n",
       "            (q_lin): Linear(in_features=768, out_features=768, bias=True)\n",
       "            (k_lin): Linear(in_features=768, out_features=768, bias=True)\n",
       "            (v_lin): Linear(in_features=768, out_features=768, bias=True)\n",
       "            (out_lin): Linear(in_features=768, out_features=768, bias=True)\n",
       "          )\n",
       "          (sa_layer_norm): LayerNorm((768,), eps=1e-12, elementwise_affine=True)\n",
       "          (ffn): FFN(\n",
       "            (dropout): Dropout(p=0.1, inplace=False)\n",
       "            (lin1): Linear(in_features=768, out_features=3072, bias=True)\n",
       "            (lin2): Linear(in_features=3072, out_features=768, bias=True)\n",
       "            (activation): GELUActivation()\n",
       "          )\n",
       "          (output_layer_norm): LayerNorm((768,), eps=1e-12, elementwise_affine=True)\n",
       "        )\n",
       "        (3): TransformerBlock(\n",
       "          (attention): MultiHeadSelfAttention(\n",
       "            (dropout): Dropout(p=0.1, inplace=False)\n",
       "            (q_lin): Linear(in_features=768, out_features=768, bias=True)\n",
       "            (k_lin): Linear(in_features=768, out_features=768, bias=True)\n",
       "            (v_lin): Linear(in_features=768, out_features=768, bias=True)\n",
       "            (out_lin): Linear(in_features=768, out_features=768, bias=True)\n",
       "          )\n",
       "          (sa_layer_norm): LayerNorm((768,), eps=1e-12, elementwise_affine=True)\n",
       "          (ffn): FFN(\n",
       "            (dropout): Dropout(p=0.1, inplace=False)\n",
       "            (lin1): Linear(in_features=768, out_features=3072, bias=True)\n",
       "            (lin2): Linear(in_features=3072, out_features=768, bias=True)\n",
       "            (activation): GELUActivation()\n",
       "          )\n",
       "          (output_layer_norm): LayerNorm((768,), eps=1e-12, elementwise_affine=True)\n",
       "        )\n",
       "        (4): TransformerBlock(\n",
       "          (attention): MultiHeadSelfAttention(\n",
       "            (dropout): Dropout(p=0.1, inplace=False)\n",
       "            (q_lin): Linear(in_features=768, out_features=768, bias=True)\n",
       "            (k_lin): Linear(in_features=768, out_features=768, bias=True)\n",
       "            (v_lin): Linear(in_features=768, out_features=768, bias=True)\n",
       "            (out_lin): Linear(in_features=768, out_features=768, bias=True)\n",
       "          )\n",
       "          (sa_layer_norm): LayerNorm((768,), eps=1e-12, elementwise_affine=True)\n",
       "          (ffn): FFN(\n",
       "            (dropout): Dropout(p=0.1, inplace=False)\n",
       "            (lin1): Linear(in_features=768, out_features=3072, bias=True)\n",
       "            (lin2): Linear(in_features=3072, out_features=768, bias=True)\n",
       "            (activation): GELUActivation()\n",
       "          )\n",
       "          (output_layer_norm): LayerNorm((768,), eps=1e-12, elementwise_affine=True)\n",
       "        )\n",
       "        (5): TransformerBlock(\n",
       "          (attention): MultiHeadSelfAttention(\n",
       "            (dropout): Dropout(p=0.1, inplace=False)\n",
       "            (q_lin): Linear(in_features=768, out_features=768, bias=True)\n",
       "            (k_lin): Linear(in_features=768, out_features=768, bias=True)\n",
       "            (v_lin): Linear(in_features=768, out_features=768, bias=True)\n",
       "            (out_lin): Linear(in_features=768, out_features=768, bias=True)\n",
       "          )\n",
       "          (sa_layer_norm): LayerNorm((768,), eps=1e-12, elementwise_affine=True)\n",
       "          (ffn): FFN(\n",
       "            (dropout): Dropout(p=0.1, inplace=False)\n",
       "            (lin1): Linear(in_features=768, out_features=3072, bias=True)\n",
       "            (lin2): Linear(in_features=3072, out_features=768, bias=True)\n",
       "            (activation): GELUActivation()\n",
       "          )\n",
       "          (output_layer_norm): LayerNorm((768,), eps=1e-12, elementwise_affine=True)\n",
       "        )\n",
       "      )\n",
       "    )\n",
       "  )\n",
       "  (pre_classifier): Linear(in_features=768, out_features=768, bias=True)\n",
       "  (classifier): Linear(in_features=768, out_features=2, bias=True)\n",
       "  (dropout): Dropout(p=0.2, inplace=False)\n",
       ")"
      ]
     },
     "execution_count": 61,
     "metadata": {},
     "output_type": "execute_result"
    }
   ],
   "source": [
    "model.to(device)"
   ]
  },
  {
   "cell_type": "code",
   "execution_count": 62,
   "id": "95fe0b54",
   "metadata": {},
   "outputs": [
    {
     "data": {
      "application/vnd.jupyter.widget-view+json": {
       "model_id": "0455c9412cf749fd8590cbf63b59c128",
       "version_major": 2,
       "version_minor": 0
      },
      "text/plain": [
       "  0%|          | 0/125 [00:00<?, ?ba/s]"
      ]
     },
     "metadata": {},
     "output_type": "display_data"
    }
   ],
   "source": [
    "formality_encoded.set_format(\"torch\", columns=[\"input_ids\", \"attention_mask\", \"label\"])\n",
    "\n",
    "formality_encoded[\"test\"] = formality_encoded[\"test\"].map(forward_pass_with_label, batched=True, batch_size=16)"
   ]
  },
  {
   "cell_type": "code",
   "execution_count": 63,
   "id": "e494d259",
   "metadata": {},
   "outputs": [],
   "source": [
    "formality_encoded.set_format(\"pandas\")\n",
    "\n",
    "cols = [\"sentence\", \"label\", \"predicted_label\", \"loss\"]\n",
    "df_test = formality_encoded[\"test\"][:][cols]\n",
    "df_test[\"label\"] = df_test[\"label\"].apply(lambda x: \"formal\" if x == 1 else \"casual\")\n",
    "df_test[\"predicted_label\"] = df_test[\"predicted_label\"].apply(lambda x: \"formal\" if x == 1 else \"casual\")"
   ]
  },
  {
   "cell_type": "code",
   "execution_count": 64,
   "id": "d2d1af5b",
   "metadata": {},
   "outputs": [
    {
     "data": {
      "text/html": [
       "<div>\n",
       "<style scoped>\n",
       "    .dataframe tbody tr th:only-of-type {\n",
       "        vertical-align: middle;\n",
       "    }\n",
       "\n",
       "    .dataframe tbody tr th {\n",
       "        vertical-align: top;\n",
       "    }\n",
       "\n",
       "    .dataframe thead th {\n",
       "        text-align: right;\n",
       "    }\n",
       "</style>\n",
       "<table border=\"1\" class=\"dataframe\">\n",
       "  <thead>\n",
       "    <tr style=\"text-align: right;\">\n",
       "      <th></th>\n",
       "      <th>sentence</th>\n",
       "      <th>label</th>\n",
       "      <th>predicted_label</th>\n",
       "      <th>loss</th>\n",
       "    </tr>\n",
       "  </thead>\n",
       "  <tbody>\n",
       "    <tr>\n",
       "      <th>541</th>\n",
       "      <td>\"How slow everybody learns in a war. Nobody knows anything about a war until it begins. Just two years before, the Polish air force had been blown to hell on the ground. The French caught it the following spring. In spite of that, the same things happened to our planes at Pearl Harbor. And yet two days later, in spite of all of it, the Japs catch our air corps on Luzon with its pants down. Only that wasn't the end. Months later, on my way out through Australia, I pass a big American field, and there they are, bombers and fighters parked in orderly rows, wing tip to wing tip. 'Hell,' they told me, 'The Japs are hundreds of miles away.' Except that's where they're always supposed to be when they catch you with your pants down, and I thought to myself, Jesus Christ, won't these guys ever learn?\"</td>\n",
       "      <td>formal</td>\n",
       "      <td>casual</td>\n",
       "      <td>2.926164</td>\n",
       "    </tr>\n",
       "    <tr>\n",
       "      <th>1110</th>\n",
       "      <td>\"On this day, he had gotten in a shipment of about eight cars - a woody, a hot rod, some car from the '20s, a DeLorean. We had business to do, so what we did was get in the woody and drive this set route he always took. He drove and we talked business on the way out, then talked about the car on the way back. Then we got in another car and did the same thing.\"</td>\n",
       "      <td>formal</td>\n",
       "      <td>casual</td>\n",
       "      <td>1.445995</td>\n",
       "    </tr>\n",
       "    <tr>\n",
       "      <th>1293</th>\n",
       "      <td>It seem to me, that calling the case worker who placed the girl with a co - worker who is charging this girl rent plus is liking asking the \"wolf to watch the hen house!\" I was so baffled by the response, that I asked the person at the State Attorney's office if there was anyone who looked out for children in these situations and the answer I received was \"I don't know.</td>\n",
       "      <td>formal</td>\n",
       "      <td>casual</td>\n",
       "      <td>1.431170</td>\n",
       "    </tr>\n",
       "    <tr>\n",
       "      <th>1031</th>\n",
       "      <td>\"There's nothing like sneaking up, and taking down a guy, and getting that notice that you have the Master Ninja trophy. It means you have improved, you are continuing to master the game, and we are recognizing that. It's not just 'Oh, here's another guy to kill.' It's 'Here's a guy who matters in a larger context. And when I defeat him, that will be recognized.' It's a solid way of rewarding and reinforcing a game's action.\"</td>\n",
       "      <td>formal</td>\n",
       "      <td>casual</td>\n",
       "      <td>1.394296</td>\n",
       "    </tr>\n",
       "    <tr>\n",
       "      <th>1622</th>\n",
       "      <td>Sure, Levi's claiming principles as the obstacle we're facing to knowing everything he's got on the Palin family, but this 19 year-old kid from the sticks is either as innocent as he's assumed to be, or is far, far savvier than anyone could ever imagine (or at least savvy enough to listen to good advice).</td>\n",
       "      <td>formal</td>\n",
       "      <td>casual</td>\n",
       "      <td>1.326902</td>\n",
       "    </tr>\n",
       "    <tr>\n",
       "      <th>1914</th>\n",
       "      <td>Raynham store manager Bert Cabral, who noted that his shop is the busiest in Massachusetts, also talked about hiring a manager from one of the big electronics chains to help improve Wal-Mart's customer service efforts.</td>\n",
       "      <td>formal</td>\n",
       "      <td>casual</td>\n",
       "      <td>1.205692</td>\n",
       "    </tr>\n",
       "    <tr>\n",
       "      <th>1095</th>\n",
       "      <td>\"I told them at the start of the year that we're not going to look at a whole lot of stats, but that turnover margin is a stat we're always going to pay close attention to because it does translate into wins.\"</td>\n",
       "      <td>formal</td>\n",
       "      <td>casual</td>\n",
       "      <td>1.196236</td>\n",
       "    </tr>\n",
       "    <tr>\n",
       "      <th>1306</th>\n",
       "      <td>\"I can't believe that any independent-minded scientists would want to take it on. People will think, if you can't speak your mind and be honest about what you think, why take on the job? It might be that the council becomes unviable.\"</td>\n",
       "      <td>formal</td>\n",
       "      <td>casual</td>\n",
       "      <td>1.166160</td>\n",
       "    </tr>\n",
       "    <tr>\n",
       "      <th>539</th>\n",
       "      <td>If you have ever walked through a woods when it is raining, listening to the raindrops falling from the leaves, listening to the birds singing a thankful song for a fresh rain bath and the smell of the fresh, clean air blowing through the trees, you can understand why THIS is my favorite time to be in the Gardens.</td>\n",
       "      <td>formal</td>\n",
       "      <td>casual</td>\n",
       "      <td>1.147378</td>\n",
       "    </tr>\n",
       "    <tr>\n",
       "      <th>575</th>\n",
       "      <td>Oliver Miles, a former ambassador to Libya, recently revealed that Mr Blair had visited the country 'a number of times' since leaving Downing Street, adding: 'He certainly has a relationship with both the leader [Gaddafi] and the leader's son.'</td>\n",
       "      <td>formal</td>\n",
       "      <td>casual</td>\n",
       "      <td>1.120326</td>\n",
       "    </tr>\n",
       "  </tbody>\n",
       "</table>\n",
       "</div>"
      ],
      "text/plain": [
       "                                                                                                                                                                                                                                                                                                                                                                                                                                                                                                                                                                                                                                                                                                                                                                                                                                 sentence  \\\n",
       "541   \"How slow everybody learns in a war. Nobody knows anything about a war until it begins. Just two years before, the Polish air force had been blown to hell on the ground. The French caught it the following spring. In spite of that, the same things happened to our planes at Pearl Harbor. And yet two days later, in spite of all of it, the Japs catch our air corps on Luzon with its pants down. Only that wasn't the end. Months later, on my way out through Australia, I pass a big American field, and there they are, bombers and fighters parked in orderly rows, wing tip to wing tip. 'Hell,' they told me, 'The Japs are hundreds of miles away.' Except that's where they're always supposed to be when they catch you with your pants down, and I thought to myself, Jesus Christ, won't these guys ever learn?\"   \n",
       "1110                                                                                                                                                                                                                                                                                                                                                                                                                                                           \"On this day, he had gotten in a shipment of about eight cars - a woody, a hot rod, some car from the '20s, a DeLorean. We had business to do, so what we did was get in the woody and drive this set route he always took. He drove and we talked business on the way out, then talked about the car on the way back. Then we got in another car and did the same thing.\"   \n",
       "1293                                                                                                                                                                                                                                                                                                                                                                                                                                                 It seem to me, that calling the case worker who placed the girl with a co - worker who is charging this girl rent plus is liking asking the \"wolf to watch the hen house!\" I was so baffled by the response, that I asked the person at the State Attorney's office if there was anyone who looked out for children in these situations and the answer I received was \"I don't know.   \n",
       "1031                                                                                                                                                                                                                                                                                                                                                                                        \"There's nothing like sneaking up, and taking down a guy, and getting that notice that you have the Master Ninja trophy. It means you have improved, you are continuing to master the game, and we are recognizing that. It's not just 'Oh, here's another guy to kill.' It's 'Here's a guy who matters in a larger context. And when I defeat him, that will be recognized.' It's a solid way of rewarding and reinforcing a game's action.\"   \n",
       "1622                                                                                                                                                                                                                                                                                                                                                                                                                                                                                                                   Sure, Levi's claiming principles as the obstacle we're facing to knowing everything he's got on the Palin family, but this 19 year-old kid from the sticks is either as innocent as he's assumed to be, or is far, far savvier than anyone could ever imagine (or at least savvy enough to listen to good advice).   \n",
       "1914                                                                                                                                                                                                                                                                                                                                                                                                                                                                                                                                                                                                           Raynham store manager Bert Cabral, who noted that his shop is the busiest in Massachusetts, also talked about hiring a manager from one of the big electronics chains to help improve Wal-Mart's customer service efforts.   \n",
       "1095                                                                                                                                                                                                                                                                                                                                                                                                                                                                                                                                                                                                                    \"I told them at the start of the year that we're not going to look at a whole lot of stats, but that turnover margin is a stat we're always going to pay close attention to because it does translate into wins.\"   \n",
       "1306                                                                                                                                                                                                                                                                                                                                                                                                                                                                                                                                                                                           \"I can't believe that any independent-minded scientists would want to take it on. People will think, if you can't speak your mind and be honest about what you think, why take on the job? It might be that the council becomes unviable.\"   \n",
       "539                                                                                                                                                                                                                                                                                                                                                                                                                                                                                                           If you have ever walked through a woods when it is raining, listening to the raindrops falling from the leaves, listening to the birds singing a thankful song for a fresh rain bath and the smell of the fresh, clean air blowing through the trees, you can understand why THIS is my favorite time to be in the Gardens.   \n",
       "575                                                                                                                                                                                                                                                                                                                                                                                                                                                                                                                                                                                  Oliver Miles, a former ambassador to Libya, recently revealed that Mr Blair had visited the country 'a number of times' since leaving Downing Street, adding: 'He certainly has a relationship with both the leader [Gaddafi] and the leader's son.'   \n",
       "\n",
       "       label predicted_label      loss  \n",
       "541   formal          casual  2.926164  \n",
       "1110  formal          casual  1.445995  \n",
       "1293  formal          casual  1.431170  \n",
       "1031  formal          casual  1.394296  \n",
       "1622  formal          casual  1.326902  \n",
       "1914  formal          casual  1.205692  \n",
       "1095  formal          casual  1.196236  \n",
       "1306  formal          casual  1.166160  \n",
       "539   formal          casual  1.147378  \n",
       "575   formal          casual  1.120326  "
      ]
     },
     "execution_count": 64,
     "metadata": {},
     "output_type": "execute_result"
    }
   ],
   "source": [
    "pd.set_option('display.max_colwidth', None)\n",
    "df_test.sort_values(\"loss\", ascending=False).head(10)"
   ]
  },
  {
   "cell_type": "code",
   "execution_count": 65,
   "id": "2db98698",
   "metadata": {},
   "outputs": [
    {
     "data": {
      "text/html": [
       "<div>\n",
       "<style scoped>\n",
       "    .dataframe tbody tr th:only-of-type {\n",
       "        vertical-align: middle;\n",
       "    }\n",
       "\n",
       "    .dataframe tbody tr th {\n",
       "        vertical-align: top;\n",
       "    }\n",
       "\n",
       "    .dataframe thead th {\n",
       "        text-align: right;\n",
       "    }\n",
       "</style>\n",
       "<table border=\"1\" class=\"dataframe\">\n",
       "  <thead>\n",
       "    <tr style=\"text-align: right;\">\n",
       "      <th></th>\n",
       "      <th>sentence</th>\n",
       "      <th>label</th>\n",
       "      <th>predicted_label</th>\n",
       "      <th>loss</th>\n",
       "    </tr>\n",
       "  </thead>\n",
       "  <tbody>\n",
       "    <tr>\n",
       "      <th>1740</th>\n",
       "      <td>-------------------------------------------------------------------------------- RHODE ISLAND: Illegal General Laws of Rhode Island.</td>\n",
       "      <td>casual</td>\n",
       "      <td>casual</td>\n",
       "      <td>0.176950</td>\n",
       "    </tr>\n",
       "    <tr>\n",
       "      <th>730</th>\n",
       "      <td>EDITOR: The study abstract, \"Recurrence of Lupus Nephritis Following Kidney Transplantation,\" (SA-PO3076) will be presented as part of a Poster Session during the American Society of Nephrology's 42nd Annual Meeting and Scientific Exposition on Oct. 31, from 10:00 am to 12:00 pm in the Scientific Exposition Hall of the San Diego Convention Center in San Diego, CA and at a Press Briefing on Oct. 29 at 12:40 pm in Room 12.</td>\n",
       "      <td>formal</td>\n",
       "      <td>formal</td>\n",
       "      <td>0.303267</td>\n",
       "    </tr>\n",
       "    <tr>\n",
       "      <th>1665</th>\n",
       "      <td>P.S. If for any reason (and I can't imagine one), you find yourself unable to appoint Mr. Verdon, I would beg you to talk with me before you make an alternate appointment.</td>\n",
       "      <td>casual</td>\n",
       "      <td>casual</td>\n",
       "      <td>0.358173</td>\n",
       "    </tr>\n",
       "    <tr>\n",
       "      <th>438</th>\n",
       "      <td>It also might not be completely out of the question that some Democratic alternatives to Meek could be attracted back into the contest if it looks like Crist is going to lose the primary, although I certainly haven't heard anything to that effect.</td>\n",
       "      <td>casual</td>\n",
       "      <td>casual</td>\n",
       "      <td>0.365515</td>\n",
       "    </tr>\n",
       "    <tr>\n",
       "      <th>1026</th>\n",
       "      <td>About a week ago, geohot released an update to his iPhone jailbreaking software dubbed Blackra1n RC2, and while that was all well and good for all you AT&amp;T guys, it did leave those of us who need a baseband unlock on our iPieces wanting more.</td>\n",
       "      <td>casual</td>\n",
       "      <td>casual</td>\n",
       "      <td>0.405442</td>\n",
       "    </tr>\n",
       "    <tr>\n",
       "      <th>1030</th>\n",
       "      <td>\"...We took some shots early and they were doing a good job getting to us, and we just needed to settle down as an offense and get into a rhythm. We were finally able to do that.\"</td>\n",
       "      <td>casual</td>\n",
       "      <td>casual</td>\n",
       "      <td>0.407299</td>\n",
       "    </tr>\n",
       "    <tr>\n",
       "      <th>651</th>\n",
       "      <td>Unlike Pavlov's \"classical conditioning,\" where an existing behavior (salivating for food) is shaped by associating it with a new stimulus (ringing of a metronome), operant conditioning is the rewarding of a partial behavior or a random act that approaches the desired behavior.</td>\n",
       "      <td>casual</td>\n",
       "      <td>casual</td>\n",
       "      <td>0.412763</td>\n",
       "    </tr>\n",
       "    <tr>\n",
       "      <th>1982</th>\n",
       "      <td>On a recent market day in the village of Palnar, women balancing urns of water on their heads and bare-footed, emaciated men came out of the forests to shop for vegetables, nuts or a rotting fruit fermented to produce local liquor.</td>\n",
       "      <td>casual</td>\n",
       "      <td>casual</td>\n",
       "      <td>0.417350</td>\n",
       "    </tr>\n",
       "    <tr>\n",
       "      <th>1312</th>\n",
       "      <td>As you know, there is alot of older folks in your state that are going to wonder if that is how they are going to pull the pin on them, a slow death by starvation ordered by the state.</td>\n",
       "      <td>casual</td>\n",
       "      <td>casual</td>\n",
       "      <td>0.438384</td>\n",
       "    </tr>\n",
       "    <tr>\n",
       "      <th>263</th>\n",
       "      <td>Of course, this is all a matter of belief, not actual statistics of returned wallets, since Gallup did this poll by phone and didn't sprinkle wallets with two hundred bucks in them around the country.</td>\n",
       "      <td>casual</td>\n",
       "      <td>casual</td>\n",
       "      <td>0.442889</td>\n",
       "    </tr>\n",
       "  </tbody>\n",
       "</table>\n",
       "</div>"
      ],
      "text/plain": [
       "                                                                                                                                                                                                                                                                                                                                                                                                                                      sentence  \\\n",
       "1740                                                                                                                                                                                                                                                                                                      -------------------------------------------------------------------------------- RHODE ISLAND: Illegal General Laws of Rhode Island.   \n",
       "730   EDITOR: The study abstract, \"Recurrence of Lupus Nephritis Following Kidney Transplantation,\" (SA-PO3076) will be presented as part of a Poster Session during the American Society of Nephrology's 42nd Annual Meeting and Scientific Exposition on Oct. 31, from 10:00 am to 12:00 pm in the Scientific Exposition Hall of the San Diego Convention Center in San Diego, CA and at a Press Briefing on Oct. 29 at 12:40 pm in Room 12.   \n",
       "1665                                                                                                                                                                                                                                                               P.S. If for any reason (and I can't imagine one), you find yourself unable to appoint Mr. Verdon, I would beg you to talk with me before you make an alternate appointment.   \n",
       "438                                                                                                                                                                                    It also might not be completely out of the question that some Democratic alternatives to Meek could be attracted back into the contest if it looks like Crist is going to lose the primary, although I certainly haven't heard anything to that effect.   \n",
       "1026                                                                                                                                                                                        About a week ago, geohot released an update to his iPhone jailbreaking software dubbed Blackra1n RC2, and while that was all well and good for all you AT&T guys, it did leave those of us who need a baseband unlock on our iPieces wanting more.   \n",
       "1030                                                                                                                                                                                                                                                       \"...We took some shots early and they were doing a good job getting to us, and we just needed to settle down as an offense and get into a rhythm. We were finally able to do that.\"   \n",
       "651                                                                                                                                                     Unlike Pavlov's \"classical conditioning,\" where an existing behavior (salivating for food) is shaped by associating it with a new stimulus (ringing of a metronome), operant conditioning is the rewarding of a partial behavior or a random act that approaches the desired behavior.   \n",
       "1982                                                                                                                                                                                                   On a recent market day in the village of Palnar, women balancing urns of water on their heads and bare-footed, emaciated men came out of the forests to shop for vegetables, nuts or a rotting fruit fermented to produce local liquor.   \n",
       "1312                                                                                                                                                                                                                                                  As you know, there is alot of older folks in your state that are going to wonder if that is how they are going to pull the pin on them, a slow death by starvation ordered by the state.   \n",
       "263                                                                                                                                                                                                                                   Of course, this is all a matter of belief, not actual statistics of returned wallets, since Gallup did this poll by phone and didn't sprinkle wallets with two hundred bucks in them around the country.   \n",
       "\n",
       "       label predicted_label      loss  \n",
       "1740  casual          casual  0.176950  \n",
       "730   formal          formal  0.303267  \n",
       "1665  casual          casual  0.358173  \n",
       "438   casual          casual  0.365515  \n",
       "1026  casual          casual  0.405442  \n",
       "1030  casual          casual  0.407299  \n",
       "651   casual          casual  0.412763  \n",
       "1982  casual          casual  0.417350  \n",
       "1312  casual          casual  0.438384  \n",
       "263   casual          casual  0.442889  "
      ]
     },
     "execution_count": 65,
     "metadata": {},
     "output_type": "execute_result"
    }
   ],
   "source": [
    "df_test.sort_values(\"loss\", ascending=True).head(10)"
   ]
  },
  {
   "cell_type": "markdown",
   "id": "3ed3ffa0",
   "metadata": {},
   "source": [
    "## Saving"
   ]
  },
  {
   "cell_type": "code",
   "execution_count": 67,
   "id": "445fb452",
   "metadata": {},
   "outputs": [
    {
     "data": {
      "application/vnd.jupyter.widget-view+json": {
       "model_id": "1e498943a3a64c9eb314b254300d2ee9",
       "version_major": 2,
       "version_minor": 0
      },
      "text/plain": [
       "Upload file pytorch_model.bin:   0%|          | 32.0k/380M [00:00<?, ?B/s]"
      ]
     },
     "metadata": {},
     "output_type": "display_data"
    },
    {
     "data": {
      "application/vnd.jupyter.widget-view+json": {
       "model_id": "22ea0aba9e034c83bca19e6450a24260",
       "version_major": 2,
       "version_minor": 0
      },
      "text/plain": [
       "Upload file training_args.bin: 100%|##########| 3.23k/3.23k [00:00<?, ?B/s]"
      ]
     },
     "metadata": {},
     "output_type": "display_data"
    },
    {
     "name": "stderr",
     "output_type": "stream",
     "text": [
      "To https://huggingface.co/isaacaderogba/tonality\n",
      "   a397cf3..2b9d443  main -> main\n",
      "\n",
      "To https://huggingface.co/isaacaderogba/tonality\n",
      "   2b9d443..f57c1e4  main -> main\n",
      "\n"
     ]
    },
    {
     "data": {
      "text/plain": [
       "'https://huggingface.co/isaacaderogba/tonality/commit/2b9d443ad9c6adb581bd22324c62c844982b7944'"
      ]
     },
     "execution_count": 67,
     "metadata": {},
     "output_type": "execute_result"
    }
   ],
   "source": [
    "trainer.push_to_hub(commit_message=\"Complete second pass of model\")"
   ]
  },
  {
   "cell_type": "code",
   "execution_count": 68,
   "id": "999c0336",
   "metadata": {},
   "outputs": [
    {
     "name": "stderr",
     "output_type": "stream",
     "text": [
      "/Users/isaacaderogba/.local/share/virtualenvs/tonality-iwQzFyzq/lib/python3.9/site-packages/huggingface_hub/utils/_deprecation.py:39: FutureWarning: Pass token='tonality' as keyword args. From version 0.8 passing these as positional arguments will result in an error\n",
      "  warnings.warn(\n",
      "/Users/isaacaderogba/.local/share/virtualenvs/tonality-iwQzFyzq/lib/python3.9/site-packages/huggingface_hub/hf_api.py:641: FutureWarning: `create_repo` now takes `token` as an optional positional argument. Be sure to adapt your code!\n",
      "  warnings.warn(\n",
      "Cloning https://huggingface.co/isaacaderogba/tonality into local empty directory.\n"
     ]
    },
    {
     "data": {
      "application/vnd.jupyter.widget-view+json": {
       "model_id": "38b2021c705e4581a4165fb426cc714e",
       "version_major": 2,
       "version_minor": 0
      },
      "text/plain": [
       "Download file pytorch_model.bin:   0%|          | 9.59k/380M [00:00<?, ?B/s]"
      ]
     },
     "metadata": {},
     "output_type": "display_data"
    },
    {
     "data": {
      "application/vnd.jupyter.widget-view+json": {
       "model_id": "c33f8f353cac4fcc9d2a87226d401a5d",
       "version_major": 2,
       "version_minor": 0
      },
      "text/plain": [
       "Download file training_args.bin: 100%|##########| 3.23k/3.23k [00:00<?, ?B/s]"
      ]
     },
     "metadata": {},
     "output_type": "display_data"
    },
    {
     "data": {
      "application/vnd.jupyter.widget-view+json": {
       "model_id": "64bb0822e1714a378bd3b6391d5d6485",
       "version_major": 2,
       "version_minor": 0
      },
      "text/plain": [
       "Clean file training_args.bin:  31%|###       | 1.00k/3.23k [00:00<?, ?B/s]"
      ]
     },
     "metadata": {},
     "output_type": "display_data"
    },
    {
     "data": {
      "application/vnd.jupyter.widget-view+json": {
       "model_id": "01528d036fed46748d406873a2b6b4d6",
       "version_major": 2,
       "version_minor": 0
      },
      "text/plain": [
       "Clean file pytorch_model.bin:   0%|          | 1.00k/380M [00:00<?, ?B/s]"
      ]
     },
     "metadata": {},
     "output_type": "display_data"
    },
    {
     "name": "stderr",
     "output_type": "stream",
     "text": [
      "To https://huggingface.co/isaacaderogba/tonality\n",
      "   f57c1e4..eb1ecc5  main -> main\n",
      "\n"
     ]
    },
    {
     "data": {
      "text/plain": [
       "'https://huggingface.co/isaacaderogba/tonality/commit/eb1ecc51e2e7795bedb0f9e5ab11d9470418160b'"
      ]
     },
     "execution_count": 68,
     "metadata": {},
     "output_type": "execute_result"
    }
   ],
   "source": [
    "tokenizer.push_to_hub(\"isaacaderogba/tonality\")"
   ]
  },
  {
   "cell_type": "code",
   "execution_count": 69,
   "id": "dba265ce",
   "metadata": {},
   "outputs": [],
   "source": [
    "from transformers import pipeline\n",
    "\n",
    "model_id = \"isaacaderogba/tonality\"\n",
    "classifier = pipeline(\"text-classification\", model=model_id)"
   ]
  },
  {
   "cell_type": "code",
   "execution_count": 100,
   "id": "677fd616",
   "metadata": {},
   "outputs": [
    {
     "name": "stderr",
     "output_type": "stream",
     "text": [
      "/Users/isaacaderogba/.local/share/virtualenvs/tonality-iwQzFyzq/lib/python3.9/site-packages/transformers/pipelines/text_classification.py:89: UserWarning: `return_all_scores` is now deprecated, use `top_k=1` if you want similar functionnality\n",
      "  warnings.warn(\n"
     ]
    }
   ],
   "source": [
    "custom_message = \"Yes, I thought so too lol.\"\n",
    "preds = classifier(custom_message, return_all_scores=True)"
   ]
  },
  {
   "cell_type": "code",
   "execution_count": 99,
   "id": "675fe4ae",
   "metadata": {},
   "outputs": [
    {
     "data": {
      "image/png": "[encoded data removed]",
      "text/plain": [
       "<Figure size 432x288 with 1 Axes>"
      ]
     },
     "metadata": {
      "needs_background": "light"
     },
     "output_type": "display_data"
    }
   ],
   "source": [
    "preds_df = pd.DataFrame(preds[0])\n",
    "plt.bar([\"casual\", \"formal\"], 100 * preds_df[\"score\"], color='C0')\n",
    "plt.title(f'\"{custom_message}\"')\n",
    "plt.ylabel(\"Class probability (%)\")\n",
    "plt.show()"
   ]
  },
  {
   "cell_type": "code",
   "execution_count": 85,
   "id": "46829fd9",
   "metadata": {},
   "outputs": [
    {
     "data": {
      "text/plain": [
       "[[{'label': 'LABEL_0', 'score': 0.26018550992012024},\n",
       "  {'label': 'LABEL_1', 'score': 0.7398145198822021}]]"
      ]
     },
     "execution_count": 85,
     "metadata": {},
     "output_type": "execute_result"
    }
   ],
   "source": [
    "preds"
   ]
  },
  {
   "cell_type": "code",
   "execution_count": null,
   "id": "6e495b93",
   "metadata": {},
   "outputs": [],
   "source": []
  }
 ],
 "metadata": {
  "kernelspec": {
   "display_name": "Python 3 (ipykernel)",
   "language": "python",
   "name": "python3"
  },
  "language_info": {
   "codemirror_mode": {
    "name": "ipython",
    "version": 3
   },
   "file_extension": ".py",
   "mimetype": "text/x-python",
   "name": "python",
   "nbconvert_exporter": "python",
   "pygments_lexer": "ipython3",
   "version": "3.9.10"
  }
 },
 "nbformat": 4,
 "nbformat_minor": 5
}
